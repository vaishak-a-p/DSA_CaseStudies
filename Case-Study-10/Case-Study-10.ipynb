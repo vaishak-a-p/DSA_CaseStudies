{
 "cells": [
  {
   "cell_type": "markdown",
   "id": "b46b47e8",
   "metadata": {},
   "source": [
    "# Case Study #10\n",
    "<hr>"
   ]
  },
  {
   "cell_type": "code",
   "execution_count": 142,
   "id": "f8a569ae",
   "metadata": {},
   "outputs": [],
   "source": [
    "# importing necessary libraries\n",
    "import pandas as pd\n",
    "import numpy as np\n",
    "import seaborn as sns\n",
    "import matplotlib.pyplot as plt\n",
    "from sklearn.model_selection import train_test_split\n",
    "from sklearn.preprocessing import LabelEncoder\n",
    "from sklearn.tree import DecisionTreeClassifier, export_graphviz\n",
    "from sklearn.metrics import classification_report, confusion_matrix, precision_recall_curve, auc, roc_curve, accuracy_score"
   ]
  },
  {
   "cell_type": "code",
   "execution_count": null,
   "id": "45eadfba",
   "metadata": {},
   "outputs": [],
   "source": []
  },
  {
   "cell_type": "markdown",
   "id": "357313b6",
   "metadata": {},
   "source": [
    "## 1. Examining the Dataset"
   ]
  },
  {
   "cell_type": "code",
   "execution_count": 143,
   "id": "5bb15f3c",
   "metadata": {},
   "outputs": [
    {
     "data": {
      "text/html": [
       "<div>\n",
       "<style scoped>\n",
       "    .dataframe tbody tr th:only-of-type {\n",
       "        vertical-align: middle;\n",
       "    }\n",
       "\n",
       "    .dataframe tbody tr th {\n",
       "        vertical-align: top;\n",
       "    }\n",
       "\n",
       "    .dataframe thead th {\n",
       "        text-align: right;\n",
       "    }\n",
       "</style>\n",
       "<table border=\"1\" class=\"dataframe\">\n",
       "  <thead>\n",
       "    <tr style=\"text-align: right;\">\n",
       "      <th></th>\n",
       "      <th>class</th>\n",
       "      <th>cap-shape</th>\n",
       "      <th>cap-surface</th>\n",
       "      <th>cap-color</th>\n",
       "      <th>bruises</th>\n",
       "      <th>odor</th>\n",
       "      <th>gill-attachment</th>\n",
       "      <th>gill-spacing</th>\n",
       "      <th>gill-size</th>\n",
       "      <th>gill-color</th>\n",
       "      <th>...</th>\n",
       "      <th>stalk-surface-below-ring</th>\n",
       "      <th>stalk-color-above-ring</th>\n",
       "      <th>stalk-color-below-ring</th>\n",
       "      <th>veil-type</th>\n",
       "      <th>veil-color</th>\n",
       "      <th>ring-number</th>\n",
       "      <th>ring-type</th>\n",
       "      <th>spore-print-color</th>\n",
       "      <th>population</th>\n",
       "      <th>habitat</th>\n",
       "    </tr>\n",
       "  </thead>\n",
       "  <tbody>\n",
       "    <tr>\n",
       "      <th>0</th>\n",
       "      <td>p</td>\n",
       "      <td>x</td>\n",
       "      <td>s</td>\n",
       "      <td>n</td>\n",
       "      <td>t</td>\n",
       "      <td>p</td>\n",
       "      <td>f</td>\n",
       "      <td>c</td>\n",
       "      <td>n</td>\n",
       "      <td>k</td>\n",
       "      <td>...</td>\n",
       "      <td>s</td>\n",
       "      <td>w</td>\n",
       "      <td>w</td>\n",
       "      <td>p</td>\n",
       "      <td>w</td>\n",
       "      <td>o</td>\n",
       "      <td>p</td>\n",
       "      <td>k</td>\n",
       "      <td>s</td>\n",
       "      <td>u</td>\n",
       "    </tr>\n",
       "    <tr>\n",
       "      <th>1</th>\n",
       "      <td>e</td>\n",
       "      <td>x</td>\n",
       "      <td>s</td>\n",
       "      <td>y</td>\n",
       "      <td>t</td>\n",
       "      <td>a</td>\n",
       "      <td>f</td>\n",
       "      <td>c</td>\n",
       "      <td>b</td>\n",
       "      <td>k</td>\n",
       "      <td>...</td>\n",
       "      <td>s</td>\n",
       "      <td>w</td>\n",
       "      <td>w</td>\n",
       "      <td>p</td>\n",
       "      <td>w</td>\n",
       "      <td>o</td>\n",
       "      <td>p</td>\n",
       "      <td>n</td>\n",
       "      <td>n</td>\n",
       "      <td>g</td>\n",
       "    </tr>\n",
       "    <tr>\n",
       "      <th>2</th>\n",
       "      <td>e</td>\n",
       "      <td>b</td>\n",
       "      <td>s</td>\n",
       "      <td>w</td>\n",
       "      <td>t</td>\n",
       "      <td>l</td>\n",
       "      <td>f</td>\n",
       "      <td>c</td>\n",
       "      <td>b</td>\n",
       "      <td>n</td>\n",
       "      <td>...</td>\n",
       "      <td>s</td>\n",
       "      <td>w</td>\n",
       "      <td>w</td>\n",
       "      <td>p</td>\n",
       "      <td>w</td>\n",
       "      <td>o</td>\n",
       "      <td>p</td>\n",
       "      <td>n</td>\n",
       "      <td>n</td>\n",
       "      <td>m</td>\n",
       "    </tr>\n",
       "    <tr>\n",
       "      <th>3</th>\n",
       "      <td>p</td>\n",
       "      <td>x</td>\n",
       "      <td>y</td>\n",
       "      <td>w</td>\n",
       "      <td>t</td>\n",
       "      <td>p</td>\n",
       "      <td>f</td>\n",
       "      <td>c</td>\n",
       "      <td>n</td>\n",
       "      <td>n</td>\n",
       "      <td>...</td>\n",
       "      <td>s</td>\n",
       "      <td>w</td>\n",
       "      <td>w</td>\n",
       "      <td>p</td>\n",
       "      <td>w</td>\n",
       "      <td>o</td>\n",
       "      <td>p</td>\n",
       "      <td>k</td>\n",
       "      <td>s</td>\n",
       "      <td>u</td>\n",
       "    </tr>\n",
       "    <tr>\n",
       "      <th>4</th>\n",
       "      <td>e</td>\n",
       "      <td>x</td>\n",
       "      <td>s</td>\n",
       "      <td>g</td>\n",
       "      <td>f</td>\n",
       "      <td>n</td>\n",
       "      <td>f</td>\n",
       "      <td>w</td>\n",
       "      <td>b</td>\n",
       "      <td>k</td>\n",
       "      <td>...</td>\n",
       "      <td>s</td>\n",
       "      <td>w</td>\n",
       "      <td>w</td>\n",
       "      <td>p</td>\n",
       "      <td>w</td>\n",
       "      <td>o</td>\n",
       "      <td>e</td>\n",
       "      <td>n</td>\n",
       "      <td>a</td>\n",
       "      <td>g</td>\n",
       "    </tr>\n",
       "  </tbody>\n",
       "</table>\n",
       "<p>5 rows × 23 columns</p>\n",
       "</div>"
      ],
      "text/plain": [
       "  class cap-shape cap-surface cap-color bruises odor gill-attachment  \\\n",
       "0     p         x           s         n       t    p               f   \n",
       "1     e         x           s         y       t    a               f   \n",
       "2     e         b           s         w       t    l               f   \n",
       "3     p         x           y         w       t    p               f   \n",
       "4     e         x           s         g       f    n               f   \n",
       "\n",
       "  gill-spacing gill-size gill-color  ... stalk-surface-below-ring  \\\n",
       "0            c         n          k  ...                        s   \n",
       "1            c         b          k  ...                        s   \n",
       "2            c         b          n  ...                        s   \n",
       "3            c         n          n  ...                        s   \n",
       "4            w         b          k  ...                        s   \n",
       "\n",
       "  stalk-color-above-ring stalk-color-below-ring veil-type veil-color  \\\n",
       "0                      w                      w         p          w   \n",
       "1                      w                      w         p          w   \n",
       "2                      w                      w         p          w   \n",
       "3                      w                      w         p          w   \n",
       "4                      w                      w         p          w   \n",
       "\n",
       "  ring-number ring-type spore-print-color population habitat  \n",
       "0           o         p                 k          s       u  \n",
       "1           o         p                 n          n       g  \n",
       "2           o         p                 n          n       m  \n",
       "3           o         p                 k          s       u  \n",
       "4           o         e                 n          a       g  \n",
       "\n",
       "[5 rows x 23 columns]"
      ]
     },
     "execution_count": 143,
     "metadata": {},
     "output_type": "execute_result"
    }
   ],
   "source": [
    "# reading the dataset\n",
    "mushroom_df = pd.read_csv('Datasets/mushrooms.csv')\n",
    "mushroom_df.head()"
   ]
  },
  {
   "cell_type": "code",
   "execution_count": null,
   "id": "32cb64fe",
   "metadata": {},
   "outputs": [],
   "source": []
  },
  {
   "cell_type": "markdown",
   "id": "1da2acbd",
   "metadata": {},
   "source": [
    "Now let us examine the dataset."
   ]
  },
  {
   "cell_type": "code",
   "execution_count": 144,
   "id": "ebc3f83d",
   "metadata": {},
   "outputs": [
    {
     "data": {
      "text/html": [
       "<div>\n",
       "<style scoped>\n",
       "    .dataframe tbody tr th:only-of-type {\n",
       "        vertical-align: middle;\n",
       "    }\n",
       "\n",
       "    .dataframe tbody tr th {\n",
       "        vertical-align: top;\n",
       "    }\n",
       "\n",
       "    .dataframe thead th {\n",
       "        text-align: right;\n",
       "    }\n",
       "</style>\n",
       "<table border=\"1\" class=\"dataframe\">\n",
       "  <thead>\n",
       "    <tr style=\"text-align: right;\">\n",
       "      <th></th>\n",
       "      <th>class</th>\n",
       "      <th>cap-shape</th>\n",
       "      <th>cap-surface</th>\n",
       "      <th>cap-color</th>\n",
       "      <th>bruises</th>\n",
       "      <th>odor</th>\n",
       "      <th>gill-attachment</th>\n",
       "      <th>gill-spacing</th>\n",
       "      <th>gill-size</th>\n",
       "      <th>gill-color</th>\n",
       "      <th>...</th>\n",
       "      <th>stalk-surface-below-ring</th>\n",
       "      <th>stalk-color-above-ring</th>\n",
       "      <th>stalk-color-below-ring</th>\n",
       "      <th>veil-type</th>\n",
       "      <th>veil-color</th>\n",
       "      <th>ring-number</th>\n",
       "      <th>ring-type</th>\n",
       "      <th>spore-print-color</th>\n",
       "      <th>population</th>\n",
       "      <th>habitat</th>\n",
       "    </tr>\n",
       "  </thead>\n",
       "  <tbody>\n",
       "    <tr>\n",
       "      <th>count</th>\n",
       "      <td>8124</td>\n",
       "      <td>8124</td>\n",
       "      <td>8124</td>\n",
       "      <td>8124</td>\n",
       "      <td>8124</td>\n",
       "      <td>8124</td>\n",
       "      <td>8124</td>\n",
       "      <td>8124</td>\n",
       "      <td>8124</td>\n",
       "      <td>8124</td>\n",
       "      <td>...</td>\n",
       "      <td>8124</td>\n",
       "      <td>8124</td>\n",
       "      <td>8124</td>\n",
       "      <td>8124</td>\n",
       "      <td>8124</td>\n",
       "      <td>8124</td>\n",
       "      <td>8124</td>\n",
       "      <td>8124</td>\n",
       "      <td>8124</td>\n",
       "      <td>8124</td>\n",
       "    </tr>\n",
       "    <tr>\n",
       "      <th>unique</th>\n",
       "      <td>2</td>\n",
       "      <td>6</td>\n",
       "      <td>4</td>\n",
       "      <td>10</td>\n",
       "      <td>2</td>\n",
       "      <td>9</td>\n",
       "      <td>2</td>\n",
       "      <td>2</td>\n",
       "      <td>2</td>\n",
       "      <td>12</td>\n",
       "      <td>...</td>\n",
       "      <td>4</td>\n",
       "      <td>9</td>\n",
       "      <td>9</td>\n",
       "      <td>1</td>\n",
       "      <td>4</td>\n",
       "      <td>3</td>\n",
       "      <td>5</td>\n",
       "      <td>9</td>\n",
       "      <td>6</td>\n",
       "      <td>7</td>\n",
       "    </tr>\n",
       "    <tr>\n",
       "      <th>top</th>\n",
       "      <td>e</td>\n",
       "      <td>x</td>\n",
       "      <td>y</td>\n",
       "      <td>n</td>\n",
       "      <td>f</td>\n",
       "      <td>n</td>\n",
       "      <td>f</td>\n",
       "      <td>c</td>\n",
       "      <td>b</td>\n",
       "      <td>b</td>\n",
       "      <td>...</td>\n",
       "      <td>s</td>\n",
       "      <td>w</td>\n",
       "      <td>w</td>\n",
       "      <td>p</td>\n",
       "      <td>w</td>\n",
       "      <td>o</td>\n",
       "      <td>p</td>\n",
       "      <td>w</td>\n",
       "      <td>v</td>\n",
       "      <td>d</td>\n",
       "    </tr>\n",
       "    <tr>\n",
       "      <th>freq</th>\n",
       "      <td>4208</td>\n",
       "      <td>3656</td>\n",
       "      <td>3244</td>\n",
       "      <td>2284</td>\n",
       "      <td>4748</td>\n",
       "      <td>3528</td>\n",
       "      <td>7914</td>\n",
       "      <td>6812</td>\n",
       "      <td>5612</td>\n",
       "      <td>1728</td>\n",
       "      <td>...</td>\n",
       "      <td>4936</td>\n",
       "      <td>4464</td>\n",
       "      <td>4384</td>\n",
       "      <td>8124</td>\n",
       "      <td>7924</td>\n",
       "      <td>7488</td>\n",
       "      <td>3968</td>\n",
       "      <td>2388</td>\n",
       "      <td>4040</td>\n",
       "      <td>3148</td>\n",
       "    </tr>\n",
       "  </tbody>\n",
       "</table>\n",
       "<p>4 rows × 23 columns</p>\n",
       "</div>"
      ],
      "text/plain": [
       "       class cap-shape cap-surface cap-color bruises  odor gill-attachment  \\\n",
       "count   8124      8124        8124      8124    8124  8124            8124   \n",
       "unique     2         6           4        10       2     9               2   \n",
       "top        e         x           y         n       f     n               f   \n",
       "freq    4208      3656        3244      2284    4748  3528            7914   \n",
       "\n",
       "       gill-spacing gill-size gill-color  ... stalk-surface-below-ring  \\\n",
       "count          8124      8124       8124  ...                     8124   \n",
       "unique            2         2         12  ...                        4   \n",
       "top               c         b          b  ...                        s   \n",
       "freq           6812      5612       1728  ...                     4936   \n",
       "\n",
       "       stalk-color-above-ring stalk-color-below-ring veil-type veil-color  \\\n",
       "count                    8124                   8124      8124       8124   \n",
       "unique                      9                      9         1          4   \n",
       "top                         w                      w         p          w   \n",
       "freq                     4464                   4384      8124       7924   \n",
       "\n",
       "       ring-number ring-type spore-print-color population habitat  \n",
       "count         8124      8124              8124       8124    8124  \n",
       "unique           3         5                 9          6       7  \n",
       "top              o         p                 w          v       d  \n",
       "freq          7488      3968              2388       4040    3148  \n",
       "\n",
       "[4 rows x 23 columns]"
      ]
     },
     "execution_count": 144,
     "metadata": {},
     "output_type": "execute_result"
    }
   ],
   "source": [
    "mushroom_df.describe()"
   ]
  },
  {
   "cell_type": "code",
   "execution_count": null,
   "id": "802a6520",
   "metadata": {},
   "outputs": [],
   "source": []
  },
  {
   "cell_type": "code",
   "execution_count": 145,
   "id": "4561b72e",
   "metadata": {},
   "outputs": [
    {
     "name": "stdout",
     "output_type": "stream",
     "text": [
      "No. of features / columns: 23\n",
      "No. of rows: 8124\n"
     ]
    }
   ],
   "source": [
    "rows, columns = mushroom_df.shape\n",
    "print(f'No. of features / columns: {columns}')\n",
    "print(f'No. of rows: {rows}')"
   ]
  },
  {
   "cell_type": "code",
   "execution_count": null,
   "id": "27121b76",
   "metadata": {},
   "outputs": [],
   "source": []
  },
  {
   "cell_type": "markdown",
   "id": "e6a7b33b",
   "metadata": {},
   "source": [
    "Let us see which all columns are there in the dataset along with there datatype."
   ]
  },
  {
   "cell_type": "code",
   "execution_count": 146,
   "id": "b6c0edad",
   "metadata": {},
   "outputs": [
    {
     "name": "stdout",
     "output_type": "stream",
     "text": [
      "<class 'pandas.core.frame.DataFrame'>\n",
      "RangeIndex: 8124 entries, 0 to 8123\n",
      "Data columns (total 23 columns):\n",
      " #   Column                    Non-Null Count  Dtype \n",
      "---  ------                    --------------  ----- \n",
      " 0   class                     8124 non-null   object\n",
      " 1   cap-shape                 8124 non-null   object\n",
      " 2   cap-surface               8124 non-null   object\n",
      " 3   cap-color                 8124 non-null   object\n",
      " 4   bruises                   8124 non-null   object\n",
      " 5   odor                      8124 non-null   object\n",
      " 6   gill-attachment           8124 non-null   object\n",
      " 7   gill-spacing              8124 non-null   object\n",
      " 8   gill-size                 8124 non-null   object\n",
      " 9   gill-color                8124 non-null   object\n",
      " 10  stalk-shape               8124 non-null   object\n",
      " 11  stalk-root                8124 non-null   object\n",
      " 12  stalk-surface-above-ring  8124 non-null   object\n",
      " 13  stalk-surface-below-ring  8124 non-null   object\n",
      " 14  stalk-color-above-ring    8124 non-null   object\n",
      " 15  stalk-color-below-ring    8124 non-null   object\n",
      " 16  veil-type                 8124 non-null   object\n",
      " 17  veil-color                8124 non-null   object\n",
      " 18  ring-number               8124 non-null   object\n",
      " 19  ring-type                 8124 non-null   object\n",
      " 20  spore-print-color         8124 non-null   object\n",
      " 21  population                8124 non-null   object\n",
      " 22  habitat                   8124 non-null   object\n",
      "dtypes: object(23)\n",
      "memory usage: 1.4+ MB\n"
     ]
    }
   ],
   "source": [
    "mushroom_df.info()"
   ]
  },
  {
   "cell_type": "markdown",
   "id": "d0dd100a",
   "metadata": {},
   "source": [
    "Here we can see that there are no quantitative columns. Every columns are of type object."
   ]
  },
  {
   "cell_type": "markdown",
   "id": "e76000c5",
   "metadata": {},
   "source": [
    "Now, let us look into the values of each columns:"
   ]
  },
  {
   "cell_type": "code",
   "execution_count": 147,
   "id": "374d2ae5",
   "metadata": {},
   "outputs": [
    {
     "data": {
      "text/html": [
       "<style type=\"text/css\">\n",
       "#T_b9aff_row0_col0, #T_b9aff_row0_col1, #T_b9aff_row1_col0, #T_b9aff_row1_col1, #T_b9aff_row2_col0, #T_b9aff_row2_col1, #T_b9aff_row3_col0, #T_b9aff_row3_col1, #T_b9aff_row4_col0, #T_b9aff_row4_col1, #T_b9aff_row5_col0, #T_b9aff_row5_col1, #T_b9aff_row6_col0, #T_b9aff_row6_col1, #T_b9aff_row7_col0, #T_b9aff_row7_col1, #T_b9aff_row8_col0, #T_b9aff_row8_col1, #T_b9aff_row9_col0, #T_b9aff_row9_col1, #T_b9aff_row10_col0, #T_b9aff_row10_col1, #T_b9aff_row11_col0, #T_b9aff_row11_col1, #T_b9aff_row12_col0, #T_b9aff_row12_col1, #T_b9aff_row13_col0, #T_b9aff_row13_col1, #T_b9aff_row14_col0, #T_b9aff_row14_col1, #T_b9aff_row15_col0, #T_b9aff_row15_col1, #T_b9aff_row16_col0, #T_b9aff_row16_col1, #T_b9aff_row17_col0, #T_b9aff_row17_col1, #T_b9aff_row18_col0, #T_b9aff_row18_col1, #T_b9aff_row19_col0, #T_b9aff_row19_col1, #T_b9aff_row20_col0, #T_b9aff_row20_col1, #T_b9aff_row21_col0, #T_b9aff_row21_col1, #T_b9aff_row22_col0, #T_b9aff_row22_col1 {\n",
       "  text-align: left;\n",
       "}\n",
       "</style>\n",
       "<table id=\"T_b9aff_\">\n",
       "  <thead>\n",
       "    <tr>\n",
       "      <th class=\"blank level0\" >&nbsp;</th>\n",
       "      <th class=\"col_heading level0 col0\" >Feature</th>\n",
       "      <th class=\"col_heading level0 col1\" >Unique Values</th>\n",
       "    </tr>\n",
       "  </thead>\n",
       "  <tbody>\n",
       "    <tr>\n",
       "      <th id=\"T_b9aff_level0_row0\" class=\"row_heading level0 row0\" >0</th>\n",
       "      <td id=\"T_b9aff_row0_col0\" class=\"data row0 col0\" >class</td>\n",
       "      <td id=\"T_b9aff_row0_col1\" class=\"data row0 col1\" >['p' 'e']</td>\n",
       "    </tr>\n",
       "    <tr>\n",
       "      <th id=\"T_b9aff_level0_row1\" class=\"row_heading level0 row1\" >1</th>\n",
       "      <td id=\"T_b9aff_row1_col0\" class=\"data row1 col0\" >cap-shape</td>\n",
       "      <td id=\"T_b9aff_row1_col1\" class=\"data row1 col1\" >['x' 'b' 's' 'f' 'k' 'c']</td>\n",
       "    </tr>\n",
       "    <tr>\n",
       "      <th id=\"T_b9aff_level0_row2\" class=\"row_heading level0 row2\" >2</th>\n",
       "      <td id=\"T_b9aff_row2_col0\" class=\"data row2 col0\" >cap-surface</td>\n",
       "      <td id=\"T_b9aff_row2_col1\" class=\"data row2 col1\" >['s' 'y' 'f' 'g']</td>\n",
       "    </tr>\n",
       "    <tr>\n",
       "      <th id=\"T_b9aff_level0_row3\" class=\"row_heading level0 row3\" >3</th>\n",
       "      <td id=\"T_b9aff_row3_col0\" class=\"data row3 col0\" >cap-color</td>\n",
       "      <td id=\"T_b9aff_row3_col1\" class=\"data row3 col1\" >['n' 'y' 'w' 'g' 'e' 'p' 'b' 'u' 'c' 'r']</td>\n",
       "    </tr>\n",
       "    <tr>\n",
       "      <th id=\"T_b9aff_level0_row4\" class=\"row_heading level0 row4\" >4</th>\n",
       "      <td id=\"T_b9aff_row4_col0\" class=\"data row4 col0\" >bruises</td>\n",
       "      <td id=\"T_b9aff_row4_col1\" class=\"data row4 col1\" >['t' 'f']</td>\n",
       "    </tr>\n",
       "    <tr>\n",
       "      <th id=\"T_b9aff_level0_row5\" class=\"row_heading level0 row5\" >5</th>\n",
       "      <td id=\"T_b9aff_row5_col0\" class=\"data row5 col0\" >odor</td>\n",
       "      <td id=\"T_b9aff_row5_col1\" class=\"data row5 col1\" >['p' 'a' 'l' 'n' 'f' 'c' 'y' 's' 'm']</td>\n",
       "    </tr>\n",
       "    <tr>\n",
       "      <th id=\"T_b9aff_level0_row6\" class=\"row_heading level0 row6\" >6</th>\n",
       "      <td id=\"T_b9aff_row6_col0\" class=\"data row6 col0\" >gill-attachment</td>\n",
       "      <td id=\"T_b9aff_row6_col1\" class=\"data row6 col1\" >['f' 'a']</td>\n",
       "    </tr>\n",
       "    <tr>\n",
       "      <th id=\"T_b9aff_level0_row7\" class=\"row_heading level0 row7\" >7</th>\n",
       "      <td id=\"T_b9aff_row7_col0\" class=\"data row7 col0\" >gill-spacing</td>\n",
       "      <td id=\"T_b9aff_row7_col1\" class=\"data row7 col1\" >['c' 'w']</td>\n",
       "    </tr>\n",
       "    <tr>\n",
       "      <th id=\"T_b9aff_level0_row8\" class=\"row_heading level0 row8\" >8</th>\n",
       "      <td id=\"T_b9aff_row8_col0\" class=\"data row8 col0\" >gill-size</td>\n",
       "      <td id=\"T_b9aff_row8_col1\" class=\"data row8 col1\" >['n' 'b']</td>\n",
       "    </tr>\n",
       "    <tr>\n",
       "      <th id=\"T_b9aff_level0_row9\" class=\"row_heading level0 row9\" >9</th>\n",
       "      <td id=\"T_b9aff_row9_col0\" class=\"data row9 col0\" >gill-color</td>\n",
       "      <td id=\"T_b9aff_row9_col1\" class=\"data row9 col1\" >['k' 'n' 'g' 'p' 'w' 'h' 'u' 'e' 'b' 'r' 'y' 'o']</td>\n",
       "    </tr>\n",
       "    <tr>\n",
       "      <th id=\"T_b9aff_level0_row10\" class=\"row_heading level0 row10\" >10</th>\n",
       "      <td id=\"T_b9aff_row10_col0\" class=\"data row10 col0\" >stalk-shape</td>\n",
       "      <td id=\"T_b9aff_row10_col1\" class=\"data row10 col1\" >['e' 't']</td>\n",
       "    </tr>\n",
       "    <tr>\n",
       "      <th id=\"T_b9aff_level0_row11\" class=\"row_heading level0 row11\" >11</th>\n",
       "      <td id=\"T_b9aff_row11_col0\" class=\"data row11 col0\" >stalk-root</td>\n",
       "      <td id=\"T_b9aff_row11_col1\" class=\"data row11 col1\" >['e' 'c' 'b' 'r' '?']</td>\n",
       "    </tr>\n",
       "    <tr>\n",
       "      <th id=\"T_b9aff_level0_row12\" class=\"row_heading level0 row12\" >12</th>\n",
       "      <td id=\"T_b9aff_row12_col0\" class=\"data row12 col0\" >stalk-surface-above-ring</td>\n",
       "      <td id=\"T_b9aff_row12_col1\" class=\"data row12 col1\" >['s' 'f' 'k' 'y']</td>\n",
       "    </tr>\n",
       "    <tr>\n",
       "      <th id=\"T_b9aff_level0_row13\" class=\"row_heading level0 row13\" >13</th>\n",
       "      <td id=\"T_b9aff_row13_col0\" class=\"data row13 col0\" >stalk-surface-below-ring</td>\n",
       "      <td id=\"T_b9aff_row13_col1\" class=\"data row13 col1\" >['s' 'f' 'y' 'k']</td>\n",
       "    </tr>\n",
       "    <tr>\n",
       "      <th id=\"T_b9aff_level0_row14\" class=\"row_heading level0 row14\" >14</th>\n",
       "      <td id=\"T_b9aff_row14_col0\" class=\"data row14 col0\" >stalk-color-above-ring</td>\n",
       "      <td id=\"T_b9aff_row14_col1\" class=\"data row14 col1\" >['w' 'g' 'p' 'n' 'b' 'e' 'o' 'c' 'y']</td>\n",
       "    </tr>\n",
       "    <tr>\n",
       "      <th id=\"T_b9aff_level0_row15\" class=\"row_heading level0 row15\" >15</th>\n",
       "      <td id=\"T_b9aff_row15_col0\" class=\"data row15 col0\" >stalk-color-below-ring</td>\n",
       "      <td id=\"T_b9aff_row15_col1\" class=\"data row15 col1\" >['w' 'p' 'g' 'b' 'n' 'e' 'y' 'o' 'c']</td>\n",
       "    </tr>\n",
       "    <tr>\n",
       "      <th id=\"T_b9aff_level0_row16\" class=\"row_heading level0 row16\" >16</th>\n",
       "      <td id=\"T_b9aff_row16_col0\" class=\"data row16 col0\" >veil-type</td>\n",
       "      <td id=\"T_b9aff_row16_col1\" class=\"data row16 col1\" >['p']</td>\n",
       "    </tr>\n",
       "    <tr>\n",
       "      <th id=\"T_b9aff_level0_row17\" class=\"row_heading level0 row17\" >17</th>\n",
       "      <td id=\"T_b9aff_row17_col0\" class=\"data row17 col0\" >veil-color</td>\n",
       "      <td id=\"T_b9aff_row17_col1\" class=\"data row17 col1\" >['w' 'n' 'o' 'y']</td>\n",
       "    </tr>\n",
       "    <tr>\n",
       "      <th id=\"T_b9aff_level0_row18\" class=\"row_heading level0 row18\" >18</th>\n",
       "      <td id=\"T_b9aff_row18_col0\" class=\"data row18 col0\" >ring-number</td>\n",
       "      <td id=\"T_b9aff_row18_col1\" class=\"data row18 col1\" >['o' 't' 'n']</td>\n",
       "    </tr>\n",
       "    <tr>\n",
       "      <th id=\"T_b9aff_level0_row19\" class=\"row_heading level0 row19\" >19</th>\n",
       "      <td id=\"T_b9aff_row19_col0\" class=\"data row19 col0\" >ring-type</td>\n",
       "      <td id=\"T_b9aff_row19_col1\" class=\"data row19 col1\" >['p' 'e' 'l' 'f' 'n']</td>\n",
       "    </tr>\n",
       "    <tr>\n",
       "      <th id=\"T_b9aff_level0_row20\" class=\"row_heading level0 row20\" >20</th>\n",
       "      <td id=\"T_b9aff_row20_col0\" class=\"data row20 col0\" >spore-print-color</td>\n",
       "      <td id=\"T_b9aff_row20_col1\" class=\"data row20 col1\" >['k' 'n' 'u' 'h' 'w' 'r' 'o' 'y' 'b']</td>\n",
       "    </tr>\n",
       "    <tr>\n",
       "      <th id=\"T_b9aff_level0_row21\" class=\"row_heading level0 row21\" >21</th>\n",
       "      <td id=\"T_b9aff_row21_col0\" class=\"data row21 col0\" >population</td>\n",
       "      <td id=\"T_b9aff_row21_col1\" class=\"data row21 col1\" >['s' 'n' 'a' 'v' 'y' 'c']</td>\n",
       "    </tr>\n",
       "    <tr>\n",
       "      <th id=\"T_b9aff_level0_row22\" class=\"row_heading level0 row22\" >22</th>\n",
       "      <td id=\"T_b9aff_row22_col0\" class=\"data row22 col0\" >habitat</td>\n",
       "      <td id=\"T_b9aff_row22_col1\" class=\"data row22 col1\" >['u' 'g' 'm' 'd' 'p' 'w' 'l']</td>\n",
       "    </tr>\n",
       "  </tbody>\n",
       "</table>\n"
      ],
      "text/plain": [
       "<pandas.io.formats.style.Styler at 0x1db313e6c10>"
      ]
     },
     "execution_count": 147,
     "metadata": {},
     "output_type": "execute_result"
    }
   ],
   "source": [
    "column_details = pd.DataFrame({'Feature': [column for column in mushroom_df.columns], 'Unique Values': [mushroom_df[column].unique() for column in mushroom_df.columns]})\n",
    "column_details.style.set_properties(**{'text-align': 'left'})"
   ]
  },
  {
   "cell_type": "markdown",
   "id": "42007bbf",
   "metadata": {},
   "source": [
    "From the above table we can see that the feature \"**veil-type**\" has just one value 'p'. So we can remove that column."
   ]
  },
  {
   "cell_type": "code",
   "execution_count": 148,
   "id": "279a7e76",
   "metadata": {},
   "outputs": [],
   "source": [
    "mushroom_df.drop(['veil-type'], axis=1, inplace=True)"
   ]
  },
  {
   "cell_type": "markdown",
   "id": "860c19be",
   "metadata": {},
   "source": [
    "Also, the feature \"**stalk-root**\"\" has an unknown value '?'."
   ]
  },
  {
   "cell_type": "code",
   "execution_count": 149,
   "id": "391cce43",
   "metadata": {},
   "outputs": [
    {
     "data": {
      "text/plain": [
       "b    3776\n",
       "?    2480\n",
       "e    1120\n",
       "c     556\n",
       "r     192\n",
       "Name: stalk-root, dtype: int64"
      ]
     },
     "execution_count": 149,
     "metadata": {},
     "output_type": "execute_result"
    }
   ],
   "source": [
    "mushroom_df['stalk-root'].value_counts()"
   ]
  },
  {
   "cell_type": "markdown",
   "id": "8b8a024e",
   "metadata": {},
   "source": [
    "We will be keeping that value as it is, since we will encode the data before the classification process."
   ]
  },
  {
   "cell_type": "markdown",
   "id": "90cbc5b4",
   "metadata": {},
   "source": [
    "For the classification problem, the target variable is class. Let us check it's values."
   ]
  },
  {
   "cell_type": "code",
   "execution_count": 150,
   "id": "6f82deb3",
   "metadata": {},
   "outputs": [
    {
     "data": {
      "text/plain": [
       "e    4208\n",
       "p    3916\n",
       "Name: class, dtype: int64"
      ]
     },
     "execution_count": 150,
     "metadata": {},
     "output_type": "execute_result"
    }
   ],
   "source": [
    "mushroom_df['class'].value_counts()"
   ]
  },
  {
   "cell_type": "markdown",
   "id": "80a44eea",
   "metadata": {},
   "source": [
    "So, there are 4208 edible samples and 3916 poisonous samples."
   ]
  },
  {
   "cell_type": "markdown",
   "id": "a98b01cd",
   "metadata": {},
   "source": [
    "Now, before we move further let us check whether there are any missing values in our dataset."
   ]
  },
  {
   "cell_type": "code",
   "execution_count": 151,
   "id": "b21c757b",
   "metadata": {},
   "outputs": [
    {
     "data": {
      "text/plain": [
       "class                       0\n",
       "cap-shape                   0\n",
       "cap-surface                 0\n",
       "cap-color                   0\n",
       "bruises                     0\n",
       "odor                        0\n",
       "gill-attachment             0\n",
       "gill-spacing                0\n",
       "gill-size                   0\n",
       "gill-color                  0\n",
       "stalk-shape                 0\n",
       "stalk-root                  0\n",
       "stalk-surface-above-ring    0\n",
       "stalk-surface-below-ring    0\n",
       "stalk-color-above-ring      0\n",
       "stalk-color-below-ring      0\n",
       "veil-color                  0\n",
       "ring-number                 0\n",
       "ring-type                   0\n",
       "spore-print-color           0\n",
       "population                  0\n",
       "habitat                     0\n",
       "dtype: int64"
      ]
     },
     "execution_count": 151,
     "metadata": {},
     "output_type": "execute_result"
    }
   ],
   "source": [
    "mushroom_df.isna().sum()"
   ]
  },
  {
   "cell_type": "markdown",
   "id": "7678b5d9",
   "metadata": {},
   "source": [
    "There are no missing values in our dataset. So, we are good to go!"
   ]
  },
  {
   "cell_type": "code",
   "execution_count": null,
   "id": "ba7effc8",
   "metadata": {},
   "outputs": [],
   "source": []
  },
  {
   "cell_type": "markdown",
   "id": "04ed1b3a",
   "metadata": {},
   "source": [
    "## 2. Encoding the Dataset"
   ]
  },
  {
   "cell_type": "markdown",
   "id": "fb4d8173",
   "metadata": {},
   "source": [
    "The data is categorical so we’ll use LabelEncoder to convert it to ordinal. LabelEncoder converts each value in a column to a number."
   ]
  },
  {
   "cell_type": "markdown",
   "id": "84cae1df",
   "metadata": {},
   "source": [
    "The LabelEncoder requires all features to be Categorical. From the df.info() method we saw that all our features are of _\"object\"_ datatype, so we have to change it's type to _\"category\"_."
   ]
  },
  {
   "cell_type": "code",
   "execution_count": 152,
   "id": "bc484f1f",
   "metadata": {},
   "outputs": [
    {
     "data": {
      "text/plain": [
       "class                       category\n",
       "cap-shape                   category\n",
       "cap-surface                 category\n",
       "cap-color                   category\n",
       "bruises                     category\n",
       "odor                        category\n",
       "gill-attachment             category\n",
       "gill-spacing                category\n",
       "gill-size                   category\n",
       "gill-color                  category\n",
       "stalk-shape                 category\n",
       "stalk-root                  category\n",
       "stalk-surface-above-ring    category\n",
       "stalk-surface-below-ring    category\n",
       "stalk-color-above-ring      category\n",
       "stalk-color-below-ring      category\n",
       "veil-color                  category\n",
       "ring-number                 category\n",
       "ring-type                   category\n",
       "spore-print-color           category\n",
       "population                  category\n",
       "habitat                     category\n",
       "dtype: object"
      ]
     },
     "execution_count": 152,
     "metadata": {},
     "output_type": "execute_result"
    }
   ],
   "source": [
    "mushroom_df = mushroom_df.astype('category')\n",
    "mushroom_df.dtypes"
   ]
  },
  {
   "cell_type": "markdown",
   "id": "44c082a2",
   "metadata": {},
   "source": [
    "Now, all our columns are of type _\"category\"_. We can now use the LabelEncoder."
   ]
  },
  {
   "cell_type": "code",
   "execution_count": 153,
   "id": "3d9e88a3",
   "metadata": {},
   "outputs": [],
   "source": [
    "labelencoder = LabelEncoder()\n",
    "for column in mushroom_df.columns:\n",
    "    mushroom_df[column] = labelencoder.fit_transform(mushroom_df[column])"
   ]
  },
  {
   "cell_type": "markdown",
   "id": "13e7f293",
   "metadata": {},
   "source": [
    "Checking the dataset again:"
   ]
  },
  {
   "cell_type": "code",
   "execution_count": 154,
   "id": "3a3502b6",
   "metadata": {},
   "outputs": [
    {
     "data": {
      "text/html": [
       "<div>\n",
       "<style scoped>\n",
       "    .dataframe tbody tr th:only-of-type {\n",
       "        vertical-align: middle;\n",
       "    }\n",
       "\n",
       "    .dataframe tbody tr th {\n",
       "        vertical-align: top;\n",
       "    }\n",
       "\n",
       "    .dataframe thead th {\n",
       "        text-align: right;\n",
       "    }\n",
       "</style>\n",
       "<table border=\"1\" class=\"dataframe\">\n",
       "  <thead>\n",
       "    <tr style=\"text-align: right;\">\n",
       "      <th></th>\n",
       "      <th>class</th>\n",
       "      <th>cap-shape</th>\n",
       "      <th>cap-surface</th>\n",
       "      <th>cap-color</th>\n",
       "      <th>bruises</th>\n",
       "      <th>odor</th>\n",
       "      <th>gill-attachment</th>\n",
       "      <th>gill-spacing</th>\n",
       "      <th>gill-size</th>\n",
       "      <th>gill-color</th>\n",
       "      <th>...</th>\n",
       "      <th>stalk-surface-above-ring</th>\n",
       "      <th>stalk-surface-below-ring</th>\n",
       "      <th>stalk-color-above-ring</th>\n",
       "      <th>stalk-color-below-ring</th>\n",
       "      <th>veil-color</th>\n",
       "      <th>ring-number</th>\n",
       "      <th>ring-type</th>\n",
       "      <th>spore-print-color</th>\n",
       "      <th>population</th>\n",
       "      <th>habitat</th>\n",
       "    </tr>\n",
       "  </thead>\n",
       "  <tbody>\n",
       "    <tr>\n",
       "      <th>0</th>\n",
       "      <td>1</td>\n",
       "      <td>5</td>\n",
       "      <td>2</td>\n",
       "      <td>4</td>\n",
       "      <td>1</td>\n",
       "      <td>6</td>\n",
       "      <td>1</td>\n",
       "      <td>0</td>\n",
       "      <td>1</td>\n",
       "      <td>4</td>\n",
       "      <td>...</td>\n",
       "      <td>2</td>\n",
       "      <td>2</td>\n",
       "      <td>7</td>\n",
       "      <td>7</td>\n",
       "      <td>2</td>\n",
       "      <td>1</td>\n",
       "      <td>4</td>\n",
       "      <td>2</td>\n",
       "      <td>3</td>\n",
       "      <td>5</td>\n",
       "    </tr>\n",
       "    <tr>\n",
       "      <th>1</th>\n",
       "      <td>0</td>\n",
       "      <td>5</td>\n",
       "      <td>2</td>\n",
       "      <td>9</td>\n",
       "      <td>1</td>\n",
       "      <td>0</td>\n",
       "      <td>1</td>\n",
       "      <td>0</td>\n",
       "      <td>0</td>\n",
       "      <td>4</td>\n",
       "      <td>...</td>\n",
       "      <td>2</td>\n",
       "      <td>2</td>\n",
       "      <td>7</td>\n",
       "      <td>7</td>\n",
       "      <td>2</td>\n",
       "      <td>1</td>\n",
       "      <td>4</td>\n",
       "      <td>3</td>\n",
       "      <td>2</td>\n",
       "      <td>1</td>\n",
       "    </tr>\n",
       "    <tr>\n",
       "      <th>2</th>\n",
       "      <td>0</td>\n",
       "      <td>0</td>\n",
       "      <td>2</td>\n",
       "      <td>8</td>\n",
       "      <td>1</td>\n",
       "      <td>3</td>\n",
       "      <td>1</td>\n",
       "      <td>0</td>\n",
       "      <td>0</td>\n",
       "      <td>5</td>\n",
       "      <td>...</td>\n",
       "      <td>2</td>\n",
       "      <td>2</td>\n",
       "      <td>7</td>\n",
       "      <td>7</td>\n",
       "      <td>2</td>\n",
       "      <td>1</td>\n",
       "      <td>4</td>\n",
       "      <td>3</td>\n",
       "      <td>2</td>\n",
       "      <td>3</td>\n",
       "    </tr>\n",
       "    <tr>\n",
       "      <th>3</th>\n",
       "      <td>1</td>\n",
       "      <td>5</td>\n",
       "      <td>3</td>\n",
       "      <td>8</td>\n",
       "      <td>1</td>\n",
       "      <td>6</td>\n",
       "      <td>1</td>\n",
       "      <td>0</td>\n",
       "      <td>1</td>\n",
       "      <td>5</td>\n",
       "      <td>...</td>\n",
       "      <td>2</td>\n",
       "      <td>2</td>\n",
       "      <td>7</td>\n",
       "      <td>7</td>\n",
       "      <td>2</td>\n",
       "      <td>1</td>\n",
       "      <td>4</td>\n",
       "      <td>2</td>\n",
       "      <td>3</td>\n",
       "      <td>5</td>\n",
       "    </tr>\n",
       "    <tr>\n",
       "      <th>4</th>\n",
       "      <td>0</td>\n",
       "      <td>5</td>\n",
       "      <td>2</td>\n",
       "      <td>3</td>\n",
       "      <td>0</td>\n",
       "      <td>5</td>\n",
       "      <td>1</td>\n",
       "      <td>1</td>\n",
       "      <td>0</td>\n",
       "      <td>4</td>\n",
       "      <td>...</td>\n",
       "      <td>2</td>\n",
       "      <td>2</td>\n",
       "      <td>7</td>\n",
       "      <td>7</td>\n",
       "      <td>2</td>\n",
       "      <td>1</td>\n",
       "      <td>0</td>\n",
       "      <td>3</td>\n",
       "      <td>0</td>\n",
       "      <td>1</td>\n",
       "    </tr>\n",
       "  </tbody>\n",
       "</table>\n",
       "<p>5 rows × 22 columns</p>\n",
       "</div>"
      ],
      "text/plain": [
       "   class  cap-shape  cap-surface  cap-color  bruises  odor  gill-attachment  \\\n",
       "0      1          5            2          4        1     6                1   \n",
       "1      0          5            2          9        1     0                1   \n",
       "2      0          0            2          8        1     3                1   \n",
       "3      1          5            3          8        1     6                1   \n",
       "4      0          5            2          3        0     5                1   \n",
       "\n",
       "   gill-spacing  gill-size  gill-color  ...  stalk-surface-above-ring  \\\n",
       "0             0          1           4  ...                         2   \n",
       "1             0          0           4  ...                         2   \n",
       "2             0          0           5  ...                         2   \n",
       "3             0          1           5  ...                         2   \n",
       "4             1          0           4  ...                         2   \n",
       "\n",
       "   stalk-surface-below-ring  stalk-color-above-ring  stalk-color-below-ring  \\\n",
       "0                         2                       7                       7   \n",
       "1                         2                       7                       7   \n",
       "2                         2                       7                       7   \n",
       "3                         2                       7                       7   \n",
       "4                         2                       7                       7   \n",
       "\n",
       "   veil-color  ring-number  ring-type  spore-print-color  population  habitat  \n",
       "0           2            1          4                  2           3        5  \n",
       "1           2            1          4                  3           2        1  \n",
       "2           2            1          4                  3           2        3  \n",
       "3           2            1          4                  2           3        5  \n",
       "4           2            1          0                  3           0        1  \n",
       "\n",
       "[5 rows x 22 columns]"
      ]
     },
     "execution_count": 154,
     "metadata": {},
     "output_type": "execute_result"
    }
   ],
   "source": [
    "mushroom_df.head(5)"
   ]
  },
  {
   "cell_type": "markdown",
   "id": "1c511d4c",
   "metadata": {},
   "source": [
    "Now, let's look at the correlation between the features:"
   ]
  },
  {
   "cell_type": "code",
   "execution_count": 155,
   "id": "ae36f522",
   "metadata": {},
   "outputs": [
    {
     "data": {
      "image/png": "[encoded data removed]",
      "text/plain": [
       "<Figure size 1008x864 with 2 Axes>"
      ]
     },
     "metadata": {
      "needs_background": "light"
     },
     "output_type": "display_data"
    }
   ],
   "source": [
    "plt.figure(figsize=(14,12))\n",
    "sns.heatmap(mushroom_df.corr(),linewidths=.1,cmap=\"Blues\", annot=True, annot_kws={\"size\": 7})\n",
    "plt.yticks(rotation=0)\n",
    "plt.show()"
   ]
  },
  {
   "cell_type": "code",
   "execution_count": null,
   "id": "601e238e",
   "metadata": {},
   "outputs": [],
   "source": []
  },
  {
   "cell_type": "markdown",
   "id": "bf68e684",
   "metadata": {},
   "source": [
    "## 3. Splitting the Dataset"
   ]
  },
  {
   "cell_type": "markdown",
   "id": "b49dcfe8",
   "metadata": {},
   "source": [
    "Let us 1st split our data set into independent and target variables."
   ]
  },
  {
   "cell_type": "code",
   "execution_count": 156,
   "id": "d3a1696a",
   "metadata": {},
   "outputs": [
    {
     "data": {
      "text/html": [
       "<div>\n",
       "<style scoped>\n",
       "    .dataframe tbody tr th:only-of-type {\n",
       "        vertical-align: middle;\n",
       "    }\n",
       "\n",
       "    .dataframe tbody tr th {\n",
       "        vertical-align: top;\n",
       "    }\n",
       "\n",
       "    .dataframe thead th {\n",
       "        text-align: right;\n",
       "    }\n",
       "</style>\n",
       "<table border=\"1\" class=\"dataframe\">\n",
       "  <thead>\n",
       "    <tr style=\"text-align: right;\">\n",
       "      <th></th>\n",
       "      <th>cap-shape</th>\n",
       "      <th>cap-surface</th>\n",
       "      <th>cap-color</th>\n",
       "      <th>bruises</th>\n",
       "      <th>odor</th>\n",
       "      <th>gill-attachment</th>\n",
       "      <th>gill-spacing</th>\n",
       "      <th>gill-size</th>\n",
       "      <th>gill-color</th>\n",
       "      <th>stalk-shape</th>\n",
       "      <th>...</th>\n",
       "      <th>stalk-surface-above-ring</th>\n",
       "      <th>stalk-surface-below-ring</th>\n",
       "      <th>stalk-color-above-ring</th>\n",
       "      <th>stalk-color-below-ring</th>\n",
       "      <th>veil-color</th>\n",
       "      <th>ring-number</th>\n",
       "      <th>ring-type</th>\n",
       "      <th>spore-print-color</th>\n",
       "      <th>population</th>\n",
       "      <th>habitat</th>\n",
       "    </tr>\n",
       "  </thead>\n",
       "  <tbody>\n",
       "    <tr>\n",
       "      <th>0</th>\n",
       "      <td>5</td>\n",
       "      <td>2</td>\n",
       "      <td>4</td>\n",
       "      <td>1</td>\n",
       "      <td>6</td>\n",
       "      <td>1</td>\n",
       "      <td>0</td>\n",
       "      <td>1</td>\n",
       "      <td>4</td>\n",
       "      <td>0</td>\n",
       "      <td>...</td>\n",
       "      <td>2</td>\n",
       "      <td>2</td>\n",
       "      <td>7</td>\n",
       "      <td>7</td>\n",
       "      <td>2</td>\n",
       "      <td>1</td>\n",
       "      <td>4</td>\n",
       "      <td>2</td>\n",
       "      <td>3</td>\n",
       "      <td>5</td>\n",
       "    </tr>\n",
       "  </tbody>\n",
       "</table>\n",
       "<p>1 rows × 21 columns</p>\n",
       "</div>"
      ],
      "text/plain": [
       "   cap-shape  cap-surface  cap-color  bruises  odor  gill-attachment  \\\n",
       "0          5            2          4        1     6                1   \n",
       "\n",
       "   gill-spacing  gill-size  gill-color  stalk-shape  ...  \\\n",
       "0             0          1           4            0  ...   \n",
       "\n",
       "   stalk-surface-above-ring  stalk-surface-below-ring  stalk-color-above-ring  \\\n",
       "0                         2                         2                       7   \n",
       "\n",
       "   stalk-color-below-ring  veil-color  ring-number  ring-type  \\\n",
       "0                       7           2            1          4   \n",
       "\n",
       "   spore-print-color  population  habitat  \n",
       "0                  2           3        5  \n",
       "\n",
       "[1 rows x 21 columns]"
      ]
     },
     "execution_count": 156,
     "metadata": {},
     "output_type": "execute_result"
    }
   ],
   "source": [
    "X = mushroom_df.drop(['class'], axis=1)\n",
    "y = mushroom_df['class']\n",
    "X.head(1)"
   ]
  },
  {
   "cell_type": "code",
   "execution_count": 157,
   "id": "99f7875a",
   "metadata": {},
   "outputs": [
    {
     "data": {
      "text/plain": [
       "0    1\n",
       "Name: class, dtype: int32"
      ]
     },
     "execution_count": 157,
     "metadata": {},
     "output_type": "execute_result"
    }
   ],
   "source": [
    "y.head(1)"
   ]
  },
  {
   "cell_type": "markdown",
   "id": "ec5441cf",
   "metadata": {},
   "source": [
    "Now, let's split into train and test dataset"
   ]
  },
  {
   "cell_type": "code",
   "execution_count": 158,
   "id": "dd109ad6",
   "metadata": {},
   "outputs": [],
   "source": [
    "X_train, X_test, y_train, y_test = train_test_split(X, y, random_state=42, test_size=0.2)"
   ]
  },
  {
   "cell_type": "code",
   "execution_count": null,
   "id": "4d606d0f",
   "metadata": {},
   "outputs": [],
   "source": []
  },
  {
   "cell_type": "markdown",
   "id": "0076f992",
   "metadata": {},
   "source": [
    "## 4. Classification\n",
    "<hr>"
   ]
  },
  {
   "cell_type": "markdown",
   "id": "26449be2",
   "metadata": {},
   "source": [
    "### 4.1 Logistic Regression\n",
    "<hr>"
   ]
  },
  {
   "cell_type": "code",
   "execution_count": 159,
   "id": "6dcca8eb",
   "metadata": {},
   "outputs": [
    {
     "name": "stdout",
     "output_type": "stream",
     "text": [
      "Test Accuracy: 94.77%\n"
     ]
    }
   ],
   "source": [
    "from sklearn.linear_model import LogisticRegression\n",
    "\n",
    "# creating LogisticRegression model\n",
    "lr = LogisticRegression(solver=\"lbfgs\", max_iter=500)\n",
    "lr.fit(X_train, y_train)\n",
    "\n",
    "print(f'Test Accuracy: {round(lr.score(X_test, y_test)*100,2)}%')"
   ]
  },
  {
   "cell_type": "code",
   "execution_count": 160,
   "id": "a427a72c",
   "metadata": {},
   "outputs": [
    {
     "name": "stdout",
     "output_type": "stream",
     "text": [
      "Logistic Regression Classifier Report: \n",
      "              precision    recall  f1-score   support\n",
      "\n",
      "           0       0.95      0.95      0.95       843\n",
      "           1       0.94      0.95      0.95       782\n",
      "\n",
      "    accuracy                           0.95      1625\n",
      "   macro avg       0.95      0.95      0.95      1625\n",
      "weighted avg       0.95      0.95      0.95      1625\n",
      "\n"
     ]
    }
   ],
   "source": [
    "y_pred_lr = lr.predict(X_test)\n",
    "\n",
    "print(f'Logistic Regression Classifier Report: \\n{classification_report(y_test, y_pred_lr)}')"
   ]
  },
  {
   "cell_type": "markdown",
   "id": "1ff6f1d9",
   "metadata": {},
   "source": [
    "Confusion Matrix for Logistic Regression Classifier:"
   ]
  },
  {
   "cell_type": "code",
   "execution_count": 161,
   "id": "5ffed1ca",
   "metadata": {},
   "outputs": [
    {
     "data": {
      "image/png": "[encoded data removed]",
      "text/plain": [
       "<Figure size 504x504 with 2 Axes>"
      ]
     },
     "metadata": {
      "needs_background": "light"
     },
     "output_type": "display_data"
    }
   ],
   "source": [
    "cm = confusion_matrix(y_test, y_pred_lr)\n",
    "x_axis_labels = [\"Edible\", \"Poisonous\"]\n",
    "y_axis_labels = [\"Edible\", \"Poisonous\"]\n",
    "f, ax = plt.subplots(figsize =(7,7))\n",
    "sns.heatmap(cm, annot = True, linewidths=0.2, linecolor=\"black\", fmt = \".0f\", ax=ax, cmap=\"Purples\", xticklabels=x_axis_labels, yticklabels=y_axis_labels)\n",
    "plt.xlabel(\"PREDICTED LABEL\")\n",
    "plt.ylabel(\"TRUE LABEL\")\n",
    "plt.title('Confusion Matrix for Logistic Regression Classifier')\n",
    "plt.show()"
   ]
  },
  {
   "cell_type": "code",
   "execution_count": null,
   "id": "c671331e",
   "metadata": {},
   "outputs": [],
   "source": []
  },
  {
   "cell_type": "markdown",
   "id": "740b37d2",
   "metadata": {},
   "source": [
    "### 4.2 KNN Classification\n",
    "<hr>"
   ]
  },
  {
   "cell_type": "code",
   "execution_count": 162,
   "id": "186738fb",
   "metadata": {},
   "outputs": [
    {
     "name": "stdout",
     "output_type": "stream",
     "text": [
      "Best KNN Value: 1\n",
      "Test Accuracy: 100.0%\n"
     ]
    }
   ],
   "source": [
    "from sklearn.neighbors import KNeighborsClassifier\n",
    "\n",
    "best_Kvalue = 0\n",
    "best_score = 0\n",
    "\n",
    "# Checking the best k value for knn\n",
    "for i in range(1,10):\n",
    "    knn = KNeighborsClassifier(n_neighbors=i)\n",
    "    knn.fit(X_train, y_train)\n",
    "    if knn.score(X_test, y_test) > best_score:\n",
    "        best_score = knn.score(X_train, y_train)\n",
    "        best_Kvalue = i\n",
    "        \n",
    "print(\"Best KNN Value: {}\".format(best_Kvalue))\n",
    "print(\"Test Accuracy: {}%\".format(round(best_score*100,2)))"
   ]
  },
  {
   "cell_type": "code",
   "execution_count": 163,
   "id": "4a789987",
   "metadata": {},
   "outputs": [
    {
     "name": "stdout",
     "output_type": "stream",
     "text": [
      "KNN Classifier report: \n",
      "\n",
      "               precision    recall  f1-score   support\n",
      "\n",
      "           0       1.00      1.00      1.00       843\n",
      "           1       1.00      1.00      1.00       782\n",
      "\n",
      "    accuracy                           1.00      1625\n",
      "   macro avg       1.00      1.00      1.00      1625\n",
      "weighted avg       1.00      1.00      1.00      1625\n",
      "\n"
     ]
    }
   ],
   "source": [
    "# Creating knn classifier with best K value\n",
    "knn = KNeighborsClassifier(n_neighbors=best_Kvalue)\n",
    "knn.fit(X_train, y_train)\n",
    "\n",
    "# predicting for X_test\n",
    "y_pred_knn = knn.predict(X_test)\n",
    "\n",
    "# generating classification report\n",
    "print(f'KNN Classifier report: \\n\\n {classification_report(y_test, y_pred_knn)}')"
   ]
  },
  {
   "cell_type": "markdown",
   "id": "242cf77c",
   "metadata": {},
   "source": [
    "Confusion Matrix for Logistic Regression Classifier:"
   ]
  },
  {
   "cell_type": "code",
   "execution_count": 164,
   "id": "26d11a22",
   "metadata": {},
   "outputs": [
    {
     "data": {
      "image/png": "[encoded data removed]",
      "text/plain": [
       "<Figure size 504x504 with 2 Axes>"
      ]
     },
     "metadata": {
      "needs_background": "light"
     },
     "output_type": "display_data"
    }
   ],
   "source": [
    "cm = confusion_matrix(y_test, y_pred_knn)\n",
    "x_axis_labels = [\"Edible\", \"Poisonous\"]\n",
    "y_axis_labels = [\"Edible\", \"Poisonous\"]\n",
    "f, ax = plt.subplots(figsize =(7,7))\n",
    "sns.heatmap(cm, annot = True, linewidths=0.2, linecolor=\"black\", fmt = \".0f\", ax=ax, cmap=\"Purples\", xticklabels=x_axis_labels, yticklabels=y_axis_labels)\n",
    "plt.xlabel(\"PREDICTED LABEL\")\n",
    "plt.ylabel(\"TRUE LABEL\")\n",
    "plt.title('Confusion Matrix for Logistic Regression Classifier')\n",
    "plt.show()"
   ]
  },
  {
   "cell_type": "code",
   "execution_count": null,
   "id": "fc8542a7",
   "metadata": {},
   "outputs": [],
   "source": []
  },
  {
   "cell_type": "markdown",
   "id": "2307b77f",
   "metadata": {},
   "source": [
    "### 4.3 Random Forest Classification\n",
    "<hr>"
   ]
  },
  {
   "cell_type": "code",
   "execution_count": 165,
   "id": "fe74b1d9",
   "metadata": {},
   "outputs": [
    {
     "name": "stdout",
     "output_type": "stream",
     "text": [
      "Test Accuracy: 100.0%\n"
     ]
    }
   ],
   "source": [
    "from sklearn.ensemble import RandomForestClassifier\n",
    "\n",
    "# creating random forest classifier\n",
    "rf = RandomForestClassifier()\n",
    "rf.fit(X_train, y_train)\n",
    "print(f'Test Accuracy: {round(rf.score(X_test, y_test)*100, 2)}%')"
   ]
  },
  {
   "cell_type": "code",
   "execution_count": 166,
   "id": "77869807",
   "metadata": {},
   "outputs": [
    {
     "name": "stdout",
     "output_type": "stream",
     "text": [
      "Random Forest Classifier Report: \n",
      "\n",
      "              precision    recall  f1-score   support\n",
      "\n",
      "           0       1.00      1.00      1.00       843\n",
      "           1       1.00      1.00      1.00       782\n",
      "\n",
      "    accuracy                           1.00      1625\n",
      "   macro avg       1.00      1.00      1.00      1625\n",
      "weighted avg       1.00      1.00      1.00      1625\n",
      "\n"
     ]
    }
   ],
   "source": [
    "# predicting for x_test using random forest\n",
    "y_pred_rf = rf.predict(X_test)\n",
    "print(f'Random Forest Classifier Report: \\n\\n{classification_report(y_test, y_pred_rf)}')"
   ]
  },
  {
   "cell_type": "markdown",
   "id": "beb5d5be",
   "metadata": {},
   "source": [
    "Confusion matrix for Random Forest Classifier"
   ]
  },
  {
   "cell_type": "code",
   "execution_count": 167,
   "id": "5d4f9afd",
   "metadata": {},
   "outputs": [
    {
     "data": {
      "image/png": "[encoded data removed]",
      "text/plain": [
       "<Figure size 504x504 with 2 Axes>"
      ]
     },
     "metadata": {
      "needs_background": "light"
     },
     "output_type": "display_data"
    }
   ],
   "source": [
    "cm = confusion_matrix(y_test, y_pred_rf)\n",
    "x_axis_labels = [\"Edible\", \"Poisonous\"]\n",
    "y_axis_labels = [\"Edible\", \"Poisonous\"]\n",
    "f, ax = plt.subplots(figsize =(7,7))\n",
    "sns.heatmap(cm, annot = True, linewidths=0.2, linecolor=\"black\", fmt = \".0f\", ax=ax, cmap=\"Purples\", xticklabels=x_axis_labels, yticklabels=y_axis_labels)\n",
    "plt.xlabel(\"PREDICTED LABEL\")\n",
    "plt.ylabel(\"TRUE LABEL\")\n",
    "plt.title('Confusion Matrix for Random Forest Classifier')\n",
    "plt.show()"
   ]
  },
  {
   "cell_type": "code",
   "execution_count": null,
   "id": "cd2587cf",
   "metadata": {},
   "outputs": [],
   "source": []
  },
  {
   "cell_type": "markdown",
   "id": "ac081d1c",
   "metadata": {},
   "source": [
    "###  4.4 SVM Classifier\n",
    "<hr>"
   ]
  },
  {
   "cell_type": "code",
   "execution_count": 170,
   "id": "9528a7b3",
   "metadata": {},
   "outputs": [
    {
     "name": "stdout",
     "output_type": "stream",
     "text": [
      "Test Accuracy: 99.38%\n"
     ]
    }
   ],
   "source": [
    "from sklearn.svm import SVC\n",
    "\n",
    "# creating SVM classifier\n",
    "svm = SVC()\n",
    "svm.fit(X_train, y_train)\n",
    "print(\"Test Accuracy: {}%\".format(round(svm.score(X_test, y_test)*100, 2)))"
   ]
  },
  {
   "cell_type": "code",
   "execution_count": 171,
   "id": "3208f685",
   "metadata": {},
   "outputs": [
    {
     "name": "stdout",
     "output_type": "stream",
     "text": [
      "SVM Classifier Report: \n",
      "\n",
      "              precision    recall  f1-score   support\n",
      "\n",
      "           0       0.99      1.00      0.99       843\n",
      "           1       1.00      0.99      0.99       782\n",
      "\n",
      "    accuracy                           0.99      1625\n",
      "   macro avg       0.99      0.99      0.99      1625\n",
      "weighted avg       0.99      0.99      0.99      1625\n",
      "\n"
     ]
    }
   ],
   "source": [
    "# predicting for X_test using svm classifier\n",
    "y_pred_svm = svm.predict(X_test)\n",
    "\n",
    "# generating classifier report\n",
    "print(f'SVM Classifier Report: \\n\\n{classification_report(y_test, y_pred_svm)}')"
   ]
  },
  {
   "cell_type": "markdown",
   "id": "151b9dbb",
   "metadata": {},
   "source": [
    "Confusion matrix for SVM Classifier:"
   ]
  },
  {
   "cell_type": "code",
   "execution_count": 172,
   "id": "26891187",
   "metadata": {},
   "outputs": [
    {
     "data": {
      "image/png": "[encoded data removed]",
      "text/plain": [
       "<Figure size 504x504 with 2 Axes>"
      ]
     },
     "metadata": {
      "needs_background": "light"
     },
     "output_type": "display_data"
    }
   ],
   "source": [
    "cm = confusion_matrix(y_test, y_pred_svm)\n",
    "x_axis_labels = [\"Edible\", \"Poisonous\"]\n",
    "y_axis_labels = [\"Edible\", \"Poisonous\"]\n",
    "f, ax = plt.subplots(figsize =(7,7))\n",
    "sns.heatmap(cm, annot = True, linewidths=0.2, linecolor=\"black\", fmt = \".0f\", ax=ax, cmap=\"Purples\", xticklabels=x_axis_labels, yticklabels=y_axis_labels)\n",
    "plt.xlabel(\"PREDICTED LABEL\")\n",
    "plt.ylabel(\"TRUE LABEL\")\n",
    "plt.title('Confusion Matrix for Logistic Regression Classifier')\n",
    "plt.show()"
   ]
  },
  {
   "cell_type": "code",
   "execution_count": null,
   "id": "cf505177",
   "metadata": {},
   "outputs": [],
   "source": []
  },
  {
   "cell_type": "markdown",
   "id": "43d33414",
   "metadata": {},
   "source": [
    "### 4.5 Decision Tree Classifier\n",
    "<hr>"
   ]
  },
  {
   "cell_type": "code",
   "execution_count": 173,
   "id": "c41b2daa",
   "metadata": {},
   "outputs": [
    {
     "name": "stdout",
     "output_type": "stream",
     "text": [
      "Test Accuracy: 100.0%\n"
     ]
    }
   ],
   "source": [
    "from sklearn.tree import DecisionTreeClassifier\n",
    "\n",
    "# creating Decision Tree Classifier\n",
    "dt = DecisionTreeClassifier()\n",
    "dt.fit(X_train, y_train)\n",
    "print(\"Test Accuracy: {}%\".format(round(dt.score(X_test, y_test)*100, 2)))"
   ]
  },
  {
   "cell_type": "code",
   "execution_count": 174,
   "id": "a252c87a",
   "metadata": {},
   "outputs": [
    {
     "name": "stdout",
     "output_type": "stream",
     "text": [
      "Decision Tree Classifier Report: \n",
      "\n",
      "              precision    recall  f1-score   support\n",
      "\n",
      "           0       1.00      1.00      1.00       843\n",
      "           1       1.00      1.00      1.00       782\n",
      "\n",
      "    accuracy                           1.00      1625\n",
      "   macro avg       1.00      1.00      1.00      1625\n",
      "weighted avg       1.00      1.00      1.00      1625\n",
      "\n"
     ]
    }
   ],
   "source": [
    "# predicting for X_test\n",
    "y_pred_dt = dt.predict(X_test)\n",
    "\n",
    "# generating classifier report\n",
    "print(f'Decision Tree Classifier Report: \\n\\n{classification_report(y_test, y_pred_dt)}')"
   ]
  },
  {
   "cell_type": "markdown",
   "id": "b06fcb51",
   "metadata": {},
   "source": [
    "Confusion Matrix for Decision Tree Classifier:"
   ]
  },
  {
   "cell_type": "code",
   "execution_count": 175,
   "id": "f6b47013",
   "metadata": {},
   "outputs": [
    {
     "data": {
      "image/png": "[encoded data removed]",
      "text/plain": [
       "<Figure size 504x504 with 2 Axes>"
      ]
     },
     "metadata": {
      "needs_background": "light"
     },
     "output_type": "display_data"
    }
   ],
   "source": [
    "cm = confusion_matrix(y_test, y_pred_dt)\n",
    "x_axis_labels = [\"Edible\", \"Poisonous\"]\n",
    "y_axis_labels = [\"Edible\", \"Poisonous\"]\n",
    "f, ax = plt.subplots(figsize =(7,7))\n",
    "sns.heatmap(cm, annot = True, linewidths=0.2, linecolor=\"black\", fmt = \".0f\", ax=ax, cmap=\"Purples\", xticklabels=x_axis_labels, yticklabels=y_axis_labels)\n",
    "plt.xlabel(\"PREDICTED LABEL\")\n",
    "plt.ylabel(\"TRUE LABEL\")\n",
    "plt.title('Confusion Matrix for Logistic Regression Classifier')\n",
    "plt.show()"
   ]
  },
  {
   "cell_type": "code",
   "execution_count": null,
   "id": "f8824003",
   "metadata": {},
   "outputs": [],
   "source": []
  },
  {
   "cell_type": "markdown",
   "id": "93bdc2cc",
   "metadata": {},
   "source": [
    "### 4.6 Naive Bayes Classification\n",
    "<hr>"
   ]
  },
  {
   "cell_type": "code",
   "execution_count": 176,
   "id": "1d734eae",
   "metadata": {},
   "outputs": [
    {
     "name": "stdout",
     "output_type": "stream",
     "text": [
      "Test Accuracy: 92.18%\n"
     ]
    }
   ],
   "source": [
    "from sklearn.naive_bayes import GaussianNB\n",
    "\n",
    "# creating GaussianNB classifier\n",
    "nb = GaussianNB()\n",
    "nb.fit(X_train, y_train)\n",
    "print(f'Test Accuracy: {round(nb.score(X_test, y_test)*100, 2)}%')"
   ]
  },
  {
   "cell_type": "code",
   "execution_count": 177,
   "id": "1cc43494",
   "metadata": {},
   "outputs": [
    {
     "name": "stdout",
     "output_type": "stream",
     "text": [
      "Gaussian Naive Bayes Classification Report: \n",
      "\n",
      "              precision    recall  f1-score   support\n",
      "\n",
      "           0       0.93      0.91      0.92       843\n",
      "           1       0.91      0.93      0.92       782\n",
      "\n",
      "    accuracy                           0.92      1625\n",
      "   macro avg       0.92      0.92      0.92      1625\n",
      "weighted avg       0.92      0.92      0.92      1625\n",
      "\n"
     ]
    }
   ],
   "source": [
    "# predicting for X_test\n",
    "y_pred_nb = nb.predict(X_test)\n",
    "\n",
    "# generating GaussianNB classifier report\n",
    "print(f'Gaussian Naive Bayes Classification Report: \\n\\n{classification_report(y_test, y_pred_nb)}')"
   ]
  },
  {
   "cell_type": "markdown",
   "id": "cada0c86",
   "metadata": {},
   "source": [
    "Confusion Matrix for Gaussian NB Classifier:"
   ]
  },
  {
   "cell_type": "code",
   "execution_count": 178,
   "id": "40c215d2",
   "metadata": {},
   "outputs": [
    {
     "data": {
      "image/png": "[encoded data removed]",
      "text/plain": [
       "<Figure size 504x504 with 2 Axes>"
      ]
     },
     "metadata": {
      "needs_background": "light"
     },
     "output_type": "display_data"
    }
   ],
   "source": [
    "cm = confusion_matrix(y_test, y_pred_nb)\n",
    "x_axis_labels = [\"Edible\", \"Poisonous\"]\n",
    "y_axis_labels = [\"Edible\", \"Poisonous\"]\n",
    "f, ax = plt.subplots(figsize =(7,7))\n",
    "sns.heatmap(cm, annot = True, linewidths=0.2, linecolor=\"black\", fmt = \".0f\", ax=ax, cmap=\"Purples\", xticklabels=x_axis_labels, yticklabels=y_axis_labels)\n",
    "plt.xlabel(\"PREDICTED LABEL\")\n",
    "plt.ylabel(\"TRUE LABEL\")\n",
    "plt.title('Confusion Matrix for Logistic Regression Classifier')\n",
    "plt.show()"
   ]
  },
  {
   "cell_type": "code",
   "execution_count": null,
   "id": "1d2d2f25",
   "metadata": {},
   "outputs": [],
   "source": []
  },
  {
   "cell_type": "markdown",
   "id": "03476c10",
   "metadata": {},
   "source": [
    "## Conclusion\n",
    "<hr>"
   ]
  },
  {
   "cell_type": "markdown",
   "id": "2d15b32c",
   "metadata": {},
   "source": [
    "The given Wine dataset is of good quality as we were able to get 90+ accuracy for most of the classifiers.\n",
    "- For KNN, Random Forest and Decision Tree we got 100% accuracy\n",
    "- SVM 99% accuracy\n",
    "- Logistic Regression - 95% accuracy\n",
    "- Gaussian Naive Bayes - 92% accuracy"
   ]
  },
  {
   "cell_type": "code",
   "execution_count": null,
   "id": "c2bed30b",
   "metadata": {},
   "outputs": [],
   "source": []
  }
 ],
 "metadata": {
  "kernelspec": {
   "display_name": "Python 3 (ipykernel)",
   "language": "python",
   "name": "python3"
  },
  "language_info": {
   "codemirror_mode": {
    "name": "ipython",
    "version": 3
   },
   "file_extension": ".py",
   "mimetype": "text/x-python",
   "name": "python",
   "nbconvert_exporter": "python",
   "pygments_lexer": "ipython3",
   "version": "3.9.0"
  }
 },
 "nbformat": 4,
 "nbformat_minor": 5
}
