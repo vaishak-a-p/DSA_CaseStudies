{
 "cells": [
  {
   "cell_type": "markdown",
   "id": "82bc0503",
   "metadata": {},
   "source": [
    "# Case Study #04 - Hypothesis Testing"
   ]
  },
  {
   "cell_type": "code",
   "execution_count": null,
   "id": "4c5d4c38",
   "metadata": {},
   "outputs": [],
   "source": []
  },
  {
   "cell_type": "code",
   "execution_count": 2,
   "id": "43f34610",
   "metadata": {},
   "outputs": [],
   "source": [
    "# importing necessary modules\n",
    "import numpy as np\n",
    "import pandas as pd\n",
    "import matplotlib.pyplot as plt\n",
    "from scipy import stats"
   ]
  },
  {
   "cell_type": "code",
   "execution_count": 3,
   "id": "e71e66dd",
   "metadata": {},
   "outputs": [
    {
     "data": {
      "text/html": [
       "<div>\n",
       "<style scoped>\n",
       "    .dataframe tbody tr th:only-of-type {\n",
       "        vertical-align: middle;\n",
       "    }\n",
       "\n",
       "    .dataframe tbody tr th {\n",
       "        vertical-align: top;\n",
       "    }\n",
       "\n",
       "    .dataframe thead th {\n",
       "        text-align: right;\n",
       "    }\n",
       "</style>\n",
       "<table border=\"1\" class=\"dataframe\">\n",
       "  <thead>\n",
       "    <tr style=\"text-align: right;\">\n",
       "      <th></th>\n",
       "      <th>Month</th>\n",
       "      <th>Region</th>\n",
       "      <th>Manager</th>\n",
       "      <th>Sales_before_digital_add(in $)</th>\n",
       "      <th>Sales_After_digital_add(in $)</th>\n",
       "    </tr>\n",
       "  </thead>\n",
       "  <tbody>\n",
       "    <tr>\n",
       "      <th>0</th>\n",
       "      <td>Month-1</td>\n",
       "      <td>Region - A</td>\n",
       "      <td>Manager - A</td>\n",
       "      <td>132921</td>\n",
       "      <td>270390</td>\n",
       "    </tr>\n",
       "    <tr>\n",
       "      <th>1</th>\n",
       "      <td>Month-2</td>\n",
       "      <td>Region - A</td>\n",
       "      <td>Manager - C</td>\n",
       "      <td>149559</td>\n",
       "      <td>223334</td>\n",
       "    </tr>\n",
       "    <tr>\n",
       "      <th>2</th>\n",
       "      <td>Month-3</td>\n",
       "      <td>Region - B</td>\n",
       "      <td>Manager - A</td>\n",
       "      <td>146278</td>\n",
       "      <td>244243</td>\n",
       "    </tr>\n",
       "    <tr>\n",
       "      <th>3</th>\n",
       "      <td>Month-4</td>\n",
       "      <td>Region - B</td>\n",
       "      <td>Manager - B</td>\n",
       "      <td>152167</td>\n",
       "      <td>231808</td>\n",
       "    </tr>\n",
       "    <tr>\n",
       "      <th>4</th>\n",
       "      <td>Month-5</td>\n",
       "      <td>Region - C</td>\n",
       "      <td>Manager - B</td>\n",
       "      <td>159525</td>\n",
       "      <td>258402</td>\n",
       "    </tr>\n",
       "  </tbody>\n",
       "</table>\n",
       "</div>"
      ],
      "text/plain": [
       "     Month      Region      Manager  Sales_before_digital_add(in $)  \\\n",
       "0  Month-1  Region - A  Manager - A                          132921   \n",
       "1  Month-2  Region - A  Manager - C                          149559   \n",
       "2  Month-3  Region - B  Manager - A                          146278   \n",
       "3  Month-4  Region - B  Manager - B                          152167   \n",
       "4  Month-5  Region - C  Manager - B                          159525   \n",
       "\n",
       "   Sales_After_digital_add(in $)  \n",
       "0                         270390  \n",
       "1                         223334  \n",
       "2                         244243  \n",
       "3                         231808  \n",
       "4                         258402  "
      ]
     },
     "execution_count": 3,
     "metadata": {},
     "output_type": "execute_result"
    }
   ],
   "source": [
    "# reading the dataset\n",
    "sales_data = pd.read_csv('Dataset/Sales_add.csv')\n",
    "sales_data.head()"
   ]
  },
  {
   "cell_type": "code",
   "execution_count": 5,
   "id": "fdb1c581",
   "metadata": {},
   "outputs": [
    {
     "data": {
      "text/plain": [
       "(22, 5)"
      ]
     },
     "execution_count": 5,
     "metadata": {},
     "output_type": "execute_result"
    }
   ],
   "source": [
    "sales_data.shape"
   ]
  },
  {
   "cell_type": "code",
   "execution_count": 6,
   "id": "73c30473",
   "metadata": {},
   "outputs": [
    {
     "name": "stdout",
     "output_type": "stream",
     "text": [
      "<class 'pandas.core.frame.DataFrame'>\n",
      "RangeIndex: 22 entries, 0 to 21\n",
      "Data columns (total 5 columns):\n",
      " #   Column                          Non-Null Count  Dtype \n",
      "---  ------                          --------------  ----- \n",
      " 0   Month                           22 non-null     object\n",
      " 1   Region                          22 non-null     object\n",
      " 2   Manager                         22 non-null     object\n",
      " 3   Sales_before_digital_add(in $)  22 non-null     int64 \n",
      " 4   Sales_After_digital_add(in $)   22 non-null     int64 \n",
      "dtypes: int64(2), object(3)\n",
      "memory usage: 1008.0+ bytes\n"
     ]
    }
   ],
   "source": [
    "sales_data.info()"
   ]
  },
  {
   "cell_type": "code",
   "execution_count": 7,
   "id": "4d83c447",
   "metadata": {},
   "outputs": [
    {
     "data": {
      "text/html": [
       "<div>\n",
       "<style scoped>\n",
       "    .dataframe tbody tr th:only-of-type {\n",
       "        vertical-align: middle;\n",
       "    }\n",
       "\n",
       "    .dataframe tbody tr th {\n",
       "        vertical-align: top;\n",
       "    }\n",
       "\n",
       "    .dataframe thead th {\n",
       "        text-align: right;\n",
       "    }\n",
       "</style>\n",
       "<table border=\"1\" class=\"dataframe\">\n",
       "  <thead>\n",
       "    <tr style=\"text-align: right;\">\n",
       "      <th></th>\n",
       "      <th>Sales_before_digital_add(in $)</th>\n",
       "      <th>Sales_After_digital_add(in $)</th>\n",
       "    </tr>\n",
       "  </thead>\n",
       "  <tbody>\n",
       "    <tr>\n",
       "      <th>count</th>\n",
       "      <td>22.000000</td>\n",
       "      <td>22.000000</td>\n",
       "    </tr>\n",
       "    <tr>\n",
       "      <th>mean</th>\n",
       "      <td>149239.954545</td>\n",
       "      <td>231123.727273</td>\n",
       "    </tr>\n",
       "    <tr>\n",
       "      <th>std</th>\n",
       "      <td>14844.042921</td>\n",
       "      <td>25556.777061</td>\n",
       "    </tr>\n",
       "    <tr>\n",
       "      <th>min</th>\n",
       "      <td>130263.000000</td>\n",
       "      <td>187305.000000</td>\n",
       "    </tr>\n",
       "    <tr>\n",
       "      <th>25%</th>\n",
       "      <td>138087.750000</td>\n",
       "      <td>214960.750000</td>\n",
       "    </tr>\n",
       "    <tr>\n",
       "      <th>50%</th>\n",
       "      <td>147444.000000</td>\n",
       "      <td>229986.500000</td>\n",
       "    </tr>\n",
       "    <tr>\n",
       "      <th>75%</th>\n",
       "      <td>157627.500000</td>\n",
       "      <td>250909.000000</td>\n",
       "    </tr>\n",
       "    <tr>\n",
       "      <th>max</th>\n",
       "      <td>178939.000000</td>\n",
       "      <td>276279.000000</td>\n",
       "    </tr>\n",
       "  </tbody>\n",
       "</table>\n",
       "</div>"
      ],
      "text/plain": [
       "       Sales_before_digital_add(in $)  Sales_After_digital_add(in $)\n",
       "count                       22.000000                      22.000000\n",
       "mean                    149239.954545                  231123.727273\n",
       "std                      14844.042921                   25556.777061\n",
       "min                     130263.000000                  187305.000000\n",
       "25%                     138087.750000                  214960.750000\n",
       "50%                     147444.000000                  229986.500000\n",
       "75%                     157627.500000                  250909.000000\n",
       "max                     178939.000000                  276279.000000"
      ]
     },
     "execution_count": 7,
     "metadata": {},
     "output_type": "execute_result"
    }
   ],
   "source": [
    "sales_data.describe()"
   ]
  },
  {
   "cell_type": "code",
   "execution_count": null,
   "id": "e13e9ed0",
   "metadata": {},
   "outputs": [],
   "source": []
  },
  {
   "cell_type": "markdown",
   "id": "fd320718",
   "metadata": {},
   "source": [
    "### 1. Impact on Shifting to Digital Marketing"
   ]
  },
  {
   "cell_type": "markdown",
   "id": "f4f34c9c",
   "metadata": {},
   "source": [
    "First of all, let's form the hypotheses:\\\n",
    "Null hypothesis, **Ho** = _The sales are the same even after stepping into digital marketing._ \\\n",
    "Alternate hypothesis, **Ha** = _The sales increaed after stepping into digital marketing._"
   ]
  },
  {
   "cell_type": "markdown",
   "id": "0437299a",
   "metadata": {},
   "source": [
    "Since the sample size is less than 30 and there are two independent samples, let's perform 2 sample t-test on the following data."
   ]
  },
  {
   "cell_type": "markdown",
   "id": "919afdf4",
   "metadata": {},
   "source": [
    "Let's set the significance level as 5%. Now we can find the degrees of freedom as below:"
   ]
  },
  {
   "cell_type": "code",
   "execution_count": 14,
   "id": "1289e52e",
   "metadata": {},
   "outputs": [
    {
     "name": "stdout",
     "output_type": "stream",
     "text": [
      "Degrees of freedom = 42\n"
     ]
    }
   ],
   "source": [
    "# setting significance level\n",
    "significance_level = 0.05\n",
    "# finding degrees of freedom\n",
    "degrees_of_freedom = len(sales_data['Sales_before_digital_add(in $)']) + len(sales_data['Sales_After_digital_add(in $)']) - 2\n",
    "print(f'Degrees of freedom = {degrees_of_freedom}')"
   ]
  },
  {
   "cell_type": "markdown",
   "id": "d0fe8f04",
   "metadata": {},
   "source": [
    "Now finding the critical value:"
   ]
  },
  {
   "cell_type": "code",
   "execution_count": 18,
   "id": "1fa1a986",
   "metadata": {},
   "outputs": [
    {
     "name": "stdout",
     "output_type": "stream",
     "text": [
      "Critical value = 1.6819523559426\n"
     ]
    }
   ],
   "source": [
    "# calculating critical value for a right tailed test\n",
    "t_critical = stats.t.ppf(1 - significance_level,df=degrees_of_freedom)\n",
    "print(f'Critical value = {t_critical}')"
   ]
  },
  {
   "cell_type": "markdown",
   "id": "2c7b835e",
   "metadata": {},
   "source": [
    "So the decision rule can be set as:\\\n",
    "**Decision rule:** _If the absolute of t-value is greater than the critical value, reject the null hypothesis._"
   ]
  },
  {
   "cell_type": "markdown",
   "id": "9fa714cc",
   "metadata": {},
   "source": [
    "\n",
    "Now, let's find the _t-value(test statistic)_:"
   ]
  },
  {
   "cell_type": "code",
   "execution_count": 26,
   "id": "48e1b43c",
   "metadata": {},
   "outputs": [
    {
     "name": "stdout",
     "output_type": "stream",
     "text": [
      "Test statistic or t-value = -12.995084451110877\n"
     ]
    }
   ],
   "source": [
    "t_value, p_value = stats.ttest_ind(sales_data['Sales_before_digital_add(in $)'], sales_data['Sales_After_digital_add(in $)'])\n",
    "print(f'Test statistic or t-value = {t_value}')"
   ]
  },
  {
   "cell_type": "code",
   "execution_count": 27,
   "id": "ba172ca1",
   "metadata": {},
   "outputs": [
    {
     "name": "stdout",
     "output_type": "stream",
     "text": [
      "Whether abs(t-value) -12.995084451110877 > critical value 1.6819523559426: True\n"
     ]
    }
   ],
   "source": [
    "print(f'Whether abs(t-value) {t_value} > critical value {t_critical}: {abs(t_value) > t_critical}')"
   ]
  },
  {
   "cell_type": "markdown",
   "id": "6be4d545",
   "metadata": {},
   "source": [
    "\n",
    "Here test statistic is greater than the critical value. So, let's reject the null hypothesis Ho."
   ]
  },
  {
   "cell_type": "markdown",
   "id": "91f9a85d",
   "metadata": {},
   "source": [
    "Hence, we can conclude that the company sales has increased after stepping into digital market.\n",
    "***"
   ]
  },
  {
   "cell_type": "markdown",
   "id": "58c0f85c",
   "metadata": {},
   "source": [
    "### 2. Dependency between the Features “Region” and “Manager”."
   ]
  },
  {
   "cell_type": "code",
   "execution_count": 29,
   "id": "c36d0465",
   "metadata": {},
   "outputs": [
    {
     "name": "stdout",
     "output_type": "stream",
     "text": [
      "<class 'pandas.core.frame.DataFrame'>\n",
      "RangeIndex: 22 entries, 0 to 21\n",
      "Data columns (total 5 columns):\n",
      " #   Column                          Non-Null Count  Dtype \n",
      "---  ------                          --------------  ----- \n",
      " 0   Month                           22 non-null     object\n",
      " 1   Region                          22 non-null     object\n",
      " 2   Manager                         22 non-null     object\n",
      " 3   Sales_before_digital_add(in $)  22 non-null     int64 \n",
      " 4   Sales_After_digital_add(in $)   22 non-null     int64 \n",
      "dtypes: int64(2), object(3)\n",
      "memory usage: 1008.0+ bytes\n"
     ]
    }
   ],
   "source": [
    "sales_data.info()"
   ]
  },
  {
   "cell_type": "code",
   "execution_count": 31,
   "id": "52be7c8e",
   "metadata": {},
   "outputs": [
    {
     "data": {
      "text/plain": [
       "array(['Region - A', 'Region - B', 'Region - C'], dtype=object)"
      ]
     },
     "execution_count": 31,
     "metadata": {},
     "output_type": "execute_result"
    }
   ],
   "source": [
    "sales_data['Region'].unique()"
   ]
  },
  {
   "cell_type": "code",
   "execution_count": 32,
   "id": "526be7a3",
   "metadata": {},
   "outputs": [
    {
     "data": {
      "text/plain": [
       "array(['Manager - A', 'Manager - C', 'Manager - B'], dtype=object)"
      ]
     },
     "execution_count": 32,
     "metadata": {},
     "output_type": "execute_result"
    }
   ],
   "source": [
    "sales_data['Manager'].unique()"
   ]
  },
  {
   "cell_type": "markdown",
   "id": "cacbfb8e",
   "metadata": {},
   "source": [
    "Since the features \"Region\" and \"Manager\" are categorical, we'll perform Chi square test to find whether there's dependency or not."
   ]
  },
  {
   "cell_type": "markdown",
   "id": "4586a9d8",
   "metadata": {},
   "source": [
    "First of all let's formulate the hypotheses:\\\n",
    "Null hypotheses, **Ho:** _There are no dependencies between the features \"Region\" and \"Manager\"_ \\\n",
    "Alternate hypotheses, **Ha:** _There is dependency between the features \"Region\" and \"Manager\"_"
   ]
  },
  {
   "cell_type": "code",
   "execution_count": 40,
   "id": "a35cb4f3",
   "metadata": {},
   "outputs": [],
   "source": [
    "# Null hypotheses\n",
    "ho = 'There are no dependencies between the features \"Region\" and \"Manager\"'\n",
    "# Alternate hypotheses\n",
    "ha = 'There is dependency between the features \"Region\" and \"Manager\"'"
   ]
  },
  {
   "cell_type": "markdown",
   "id": "429f11d1",
   "metadata": {},
   "source": [
    "Now, let's create a cross table for the features _\"Region\"_ and _\"Manager\"_"
   ]
  },
  {
   "cell_type": "code",
   "execution_count": 34,
   "id": "943e79ca",
   "metadata": {},
   "outputs": [
    {
     "data": {
      "text/html": [
       "<div>\n",
       "<style scoped>\n",
       "    .dataframe tbody tr th:only-of-type {\n",
       "        vertical-align: middle;\n",
       "    }\n",
       "\n",
       "    .dataframe tbody tr th {\n",
       "        vertical-align: top;\n",
       "    }\n",
       "\n",
       "    .dataframe thead th {\n",
       "        text-align: right;\n",
       "    }\n",
       "</style>\n",
       "<table border=\"1\" class=\"dataframe\">\n",
       "  <thead>\n",
       "    <tr style=\"text-align: right;\">\n",
       "      <th>Manager</th>\n",
       "      <th>Manager - A</th>\n",
       "      <th>Manager - B</th>\n",
       "      <th>Manager - C</th>\n",
       "    </tr>\n",
       "    <tr>\n",
       "      <th>Region</th>\n",
       "      <th></th>\n",
       "      <th></th>\n",
       "      <th></th>\n",
       "    </tr>\n",
       "  </thead>\n",
       "  <tbody>\n",
       "    <tr>\n",
       "      <th>Region - A</th>\n",
       "      <td>4</td>\n",
       "      <td>3</td>\n",
       "      <td>3</td>\n",
       "    </tr>\n",
       "    <tr>\n",
       "      <th>Region - B</th>\n",
       "      <td>4</td>\n",
       "      <td>1</td>\n",
       "      <td>2</td>\n",
       "    </tr>\n",
       "    <tr>\n",
       "      <th>Region - C</th>\n",
       "      <td>1</td>\n",
       "      <td>3</td>\n",
       "      <td>1</td>\n",
       "    </tr>\n",
       "  </tbody>\n",
       "</table>\n",
       "</div>"
      ],
      "text/plain": [
       "Manager     Manager - A  Manager - B  Manager - C\n",
       "Region                                           \n",
       "Region - A            4            3            3\n",
       "Region - B            4            1            2\n",
       "Region - C            1            3            1"
      ]
     },
     "execution_count": 34,
     "metadata": {},
     "output_type": "execute_result"
    }
   ],
   "source": [
    "cross_table = pd.crosstab(sales_data[\"Region\"] ,sales_data[\"Manager\"] , margins = False)\n",
    "cross_table"
   ]
  },
  {
   "cell_type": "markdown",
   "id": "68d8cba1",
   "metadata": {},
   "source": [
    "Let choose significance level as 0.05"
   ]
  },
  {
   "cell_type": "code",
   "execution_count": 36,
   "id": "08a529c5",
   "metadata": {},
   "outputs": [],
   "source": [
    "significance_level = 0.05"
   ]
  },
  {
   "cell_type": "code",
   "execution_count": 38,
   "id": "804ecc06",
   "metadata": {},
   "outputs": [],
   "source": [
    "stat,p,dof,expected = stats.chi2_contingency(cross_table)"
   ]
  },
  {
   "cell_type": "code",
   "execution_count": 39,
   "id": "ac97cf6c",
   "metadata": {},
   "outputs": [
    {
     "name": "stdout",
     "output_type": "stream",
     "text": [
      "p-value = 0.5493991051158094\n"
     ]
    }
   ],
   "source": [
    "print(f'p-value = {p}')"
   ]
  },
  {
   "cell_type": "code",
   "execution_count": 43,
   "id": "a8c0d83e",
   "metadata": {},
   "outputs": [
    {
     "name": "stdout",
     "output_type": "stream",
     "text": [
      "Accept null hypothesisi: There are no dependencies between the features \"Region\" and \"Manager\"\n"
     ]
    }
   ],
   "source": [
    "if p > significance_level:\n",
    "    print(f\"Accept null hypothesisi: {ho}\")\n",
    "else:\n",
    "    print(f'Reject null hypothesis and accept alternate hypothesis: {ha}')"
   ]
  },
  {
   "cell_type": "code",
   "execution_count": null,
   "id": "5bf691b7",
   "metadata": {},
   "outputs": [],
   "source": [
    "Hence, we can conclude that there are no significance difference between the features *\"Region\"* and \"\""
   ]
  }
 ],
 "metadata": {
  "kernelspec": {
   "display_name": "Python 3 (ipykernel)",
   "language": "python",
   "name": "python3"
  },
  "language_info": {
   "codemirror_mode": {
    "name": "ipython",
    "version": 3
   },
   "file_extension": ".py",
   "mimetype": "text/x-python",
   "name": "python",
   "nbconvert_exporter": "python",
   "pygments_lexer": "ipython3",
   "version": "3.9.0"
  }
 },
 "nbformat": 4,
 "nbformat_minor": 5
}
